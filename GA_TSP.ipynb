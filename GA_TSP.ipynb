{
 "cells": [
  {
   "cell_type": "code",
   "execution_count": 66,
   "metadata": {},
   "outputs": [
    {
     "data": {
      "text/html": [
       "<div>\n",
       "<table border=\"1\" class=\"dataframe\">\n",
       "  <thead>\n",
       "    <tr style=\"text-align: right;\">\n",
       "      <th></th>\n",
       "      <th>X1</th>\n",
       "      <th>Y1</th>\n",
       "      <th>X2</th>\n",
       "      <th>Y2</th>\n",
       "      <th>X3</th>\n",
       "      <th>Y3</th>\n",
       "    </tr>\n",
       "  </thead>\n",
       "  <tbody>\n",
       "    <tr>\n",
       "      <th>0</th>\n",
       "      <td>0.9501</td>\n",
       "      <td>0.2311</td>\n",
       "      <td>0.7939</td>\n",
       "      <td>0.9045</td>\n",
       "      <td>0.8626</td>\n",
       "      <td>0.8961</td>\n",
       "    </tr>\n",
       "    <tr>\n",
       "      <th>1</th>\n",
       "      <td>0.6068</td>\n",
       "      <td>0.4860</td>\n",
       "      <td>0.9990</td>\n",
       "      <td>0.5314</td>\n",
       "      <td>0.2626</td>\n",
       "      <td>0.2506</td>\n",
       "    </tr>\n",
       "    <tr>\n",
       "      <th>2</th>\n",
       "      <td>0.8913</td>\n",
       "      <td>0.7621</td>\n",
       "      <td>0.9990</td>\n",
       "      <td>0.4686</td>\n",
       "      <td>0.7674</td>\n",
       "      <td>0.9727</td>\n",
       "    </tr>\n",
       "    <tr>\n",
       "      <th>3</th>\n",
       "      <td>0.4565</td>\n",
       "      <td>0.0185</td>\n",
       "      <td>0.6841</td>\n",
       "      <td>0.9649</td>\n",
       "      <td>0.1439</td>\n",
       "      <td>0.1682</td>\n",
       "    </tr>\n",
       "    <tr>\n",
       "      <th>4</th>\n",
       "      <td>0.8214</td>\n",
       "      <td>0.4447</td>\n",
       "      <td>0.9524</td>\n",
       "      <td>0.7129</td>\n",
       "      <td>0.9017</td>\n",
       "      <td>0.9815</td>\n",
       "    </tr>\n",
       "    <tr>\n",
       "      <th>5</th>\n",
       "      <td>0.6154</td>\n",
       "      <td>0.7919</td>\n",
       "      <td>0.6243</td>\n",
       "      <td>0.9843</td>\n",
       "      <td>0.8457</td>\n",
       "      <td>0.9857</td>\n",
       "    </tr>\n",
       "    <tr>\n",
       "      <th>6</th>\n",
       "      <td>0.9218</td>\n",
       "      <td>0.7382</td>\n",
       "      <td>0.1147</td>\n",
       "      <td>0.8187</td>\n",
       "      <td>0.7424</td>\n",
       "      <td>0.8371</td>\n",
       "    </tr>\n",
       "    <tr>\n",
       "      <th>7</th>\n",
       "      <td>0.1763</td>\n",
       "      <td>0.4057</td>\n",
       "      <td>0.9524</td>\n",
       "      <td>0.2871</td>\n",
       "      <td>0.1850</td>\n",
       "      <td>0.2055</td>\n",
       "    </tr>\n",
       "    <tr>\n",
       "      <th>8</th>\n",
       "      <td>0.9355</td>\n",
       "      <td>0.9169</td>\n",
       "      <td>0.1577</td>\n",
       "      <td>0.8645</td>\n",
       "      <td>0.7696</td>\n",
       "      <td>0.8436</td>\n",
       "    </tr>\n",
       "    <tr>\n",
       "      <th>9</th>\n",
       "      <td>0.4103</td>\n",
       "      <td>0.8936</td>\n",
       "      <td>0.7409</td>\n",
       "      <td>0.0618</td>\n",
       "      <td>0.1530</td>\n",
       "      <td>0.2142</td>\n",
       "    </tr>\n",
       "  </tbody>\n",
       "</table>\n",
       "</div>"
      ],
      "text/plain": [
       "       X1      Y1      X2      Y2      X3      Y3\n",
       "0  0.9501  0.2311  0.7939  0.9045  0.8626  0.8961\n",
       "1  0.6068  0.4860  0.9990  0.5314  0.2626  0.2506\n",
       "2  0.8913  0.7621  0.9990  0.4686  0.7674  0.9727\n",
       "3  0.4565  0.0185  0.6841  0.9649  0.1439  0.1682\n",
       "4  0.8214  0.4447  0.9524  0.7129  0.9017  0.9815\n",
       "5  0.6154  0.7919  0.6243  0.9843  0.8457  0.9857\n",
       "6  0.9218  0.7382  0.1147  0.8187  0.7424  0.8371\n",
       "7  0.1763  0.4057  0.9524  0.2871  0.1850  0.2055\n",
       "8  0.9355  0.9169  0.1577  0.8645  0.7696  0.8436\n",
       "9  0.4103  0.8936  0.7409  0.0618  0.1530  0.2142"
      ]
     },
     "metadata": {},
     "output_type": "display_data"
    }
   ],
   "source": [
    "# Import libraries necessary for this project\n",
    "import numpy as np\n",
    "import pandas as pd\n",
    "from time import time\n",
    "from IPython.display import display # Allows the use of display() for DataFrames\n",
    "import random\n",
    "import matplotlib.pyplot as plt\n",
    "import random\n",
    "import matplotlib.lines as mlines\n",
    "import time\n",
    "\n",
    "\n",
    "# Pretty display for notebooks\n",
    "%matplotlib inline\n",
    "\n",
    "# Load the Census dataset\n",
    "data = pd.read_csv(\"combined_csv_data.csv\")\n",
    "\n",
    "# Success - Display the first record\n",
    "display(data.head(n=10))"
   ]
  },
  {
   "cell_type": "code",
   "execution_count": 194,
   "metadata": {
    "collapsed": true
   },
   "outputs": [],
   "source": [
    "X1 = data['X3'];\n",
    "Y1 = data['Y3'];\n",
    "def cartesian_matrix(X1, Y1):\n",
    "    '''create a distance matrix for the city coords\n",
    "      that uses straight line distance'''\n",
    "    matrix={}\n",
    "    for i in range(0,len(X1)):\n",
    "        for j in range(0,len(Y1)):\n",
    "            dx = X1[i] - X1[j];\n",
    "            dy = Y1[i] - Y1[j];\n",
    "            dist = np.sqrt(dx*dx + dy*dy);\n",
    "            matrix[i,j] = dist;\n",
    "    return matrix"
   ]
  },
  {
   "cell_type": "code",
   "execution_count": 195,
   "metadata": {
    "scrolled": true
   },
   "outputs": [
    {
     "name": "stdout",
     "output_type": "stream",
     "text": [
      "0.144497231807\n"
     ]
    }
   ],
   "source": [
    "matrix = cartesian_matrix(X1,Y1)\n",
    "print matrix[1,3]"
   ]
  },
  {
   "cell_type": "code",
   "execution_count": 196,
   "metadata": {
    "collapsed": true
   },
   "outputs": [],
   "source": [
    "def tour_length(matrix,tour):\n",
    "    total = 0\n",
    "    \n",
    "    for i in range(0, 50):\n",
    "        if i == 49:\n",
    "            j = 0\n",
    "        else:\n",
    "            j = i + 1\n",
    "        city1 = tour[i]\n",
    "        city2 = tour[j]\n",
    "        total = total + matrix[city1, city2]\n",
    "    return total"
   ]
  },
  {
   "cell_type": "code",
   "execution_count": 197,
   "metadata": {
    "collapsed": true
   },
   "outputs": [],
   "source": [
    "def all_pairs(size,shuffle=random.shuffle):\n",
    "    r1=range(size)\n",
    "    r2=range(size)\n",
    "    if shuffle:\n",
    "        shuffle(r1)\n",
    "        shuffle(r2)\n",
    "    for i in r1:\n",
    "        for j in r2:\n",
    "            yield (i,j)"
   ]
  },
  {
   "cell_type": "code",
   "execution_count": 198,
   "metadata": {
    "collapsed": true
   },
   "outputs": [],
   "source": [
    "def swapped_cities(tour):\n",
    "    '''generator to create all possible variations\n",
    "      where two cities have been swapped'''\n",
    "    for i,j in all_pairs(len(tour)):\n",
    "        if i < j:\n",
    "            copy=tour[:]\n",
    "            copy[i],copy[j]=tour[j],tour[i]\n",
    "            break\n",
    "    return copy"
   ]
  },
  {
   "cell_type": "code",
   "execution_count": 199,
   "metadata": {
    "collapsed": true
   },
   "outputs": [],
   "source": [
    "def reversed_sections(tour):\n",
    "    '''generator to return all possible variations \n",
    "      where the section between two cities are swapped'''\n",
    "    for i,j in all_pairs(len(tour)):\n",
    "        if i != j:\n",
    "            copy=tour[:]\n",
    "            if i < j:\n",
    "                copy[i:j+1]=reversed(tour[i:j+1])\n",
    "            else:\n",
    "                copy[i+1:]=reversed(tour[:j])\n",
    "                copy[:j]=reversed(tour[i+1:])\n",
    "            if copy != tour: # no point returning the same tour\n",
    "                break\n",
    "    return copy"
   ]
  },
  {
   "cell_type": "code",
   "execution_count": 200,
   "metadata": {
    "collapsed": true
   },
   "outputs": [],
   "source": [
    "def reversed_sections_hill(tour):\n",
    "    '''generator to return all possible variations \n",
    "      where the section between two cities are swapped'''\n",
    "    for i,j in all_pairs(len(tour)):\n",
    "        if i != j:\n",
    "            copy=tour[:]\n",
    "            if i < j:\n",
    "                copy[i:j+1]=reversed(tour[i:j+1])\n",
    "            else:\n",
    "                copy[i+1:]=reversed(tour[:j])\n",
    "                copy[:j]=reversed(tour[i+1:])\n",
    "            if copy != tour: # no point returning the same tour\n",
    "                yield copy"
   ]
  },
  {
   "cell_type": "code",
   "execution_count": 201,
   "metadata": {
    "collapsed": true
   },
   "outputs": [],
   "source": [
    "def init_random_tour(tour_length):\n",
    "    tour=range(tour_length)\n",
    "    random.shuffle(tour)\n",
    "    return tour\n",
    "\n",
    "init_function=lambda: init_random_tour(50)\n",
    "objective_function=lambda tour: -tour_length(matrix,tour) #note negation"
   ]
  },
  {
   "cell_type": "code",
   "execution_count": 202,
   "metadata": {
    "collapsed": true
   },
   "outputs": [],
   "source": [
    "def hillclimb(\n",
    "    init_function,\n",
    "    move_operator,\n",
    "    objective_function,\n",
    "    max_evaluations):\n",
    "    '''\n",
    "    hillclimb until either max_evaluations\n",
    "    is reached or we are at a local optima\n",
    "    '''\n",
    "    best=init_function()\n",
    "    best_score = objective_function(best)\n",
    "    \n",
    "    score_rec = []\n",
    "    \n",
    "    num_evaluations = 0\n",
    "    \n",
    "    while num_evaluations < max_evaluations:\n",
    "       \n",
    "        move_made=False\n",
    "        for next in move_operator(best):\n",
    "            if num_evaluations >= max_evaluations:\n",
    "                break\n",
    "            # see if this move is better than the current\n",
    "            next_score=objective_function(next)\n",
    "            num_evaluations+=1\n",
    "            if next_score > best_score:\n",
    "                best=next\n",
    "                best_score=next_score\n",
    "                move_made=True\n",
    "                break # depth first search\n",
    "            \n",
    "        if not move_made:\n",
    "            break # we couldn't find a better move \n",
    "                     # (must be at a local maximum)\n",
    "    \n",
    "\n",
    "    \n",
    "    return (num_evaluations,best_score,best)"
   ]
  },
  {
   "cell_type": "code",
   "execution_count": 203,
   "metadata": {
    "scrolled": false
   },
   "outputs": [
    {
     "ename": "TypeError",
     "evalue": "'int' object has no attribute '__getitem__'",
     "output_type": "error",
     "traceback": [
      "\u001b[0;31m---------------------------------------------------------------------------\u001b[0m",
      "\u001b[0;31mTypeError\u001b[0m                                 Traceback (most recent call last)",
      "\u001b[0;32m<ipython-input-203-26a3689de32d>\u001b[0m in \u001b[0;36m<module>\u001b[0;34m()\u001b[0m\n\u001b[0;32m----> 1\u001b[0;31m \u001b[0ma1\u001b[0m\u001b[0;34m,\u001b[0m\u001b[0mb1\u001b[0m\u001b[0;34m,\u001b[0m\u001b[0mc1\u001b[0m \u001b[0;34m=\u001b[0m \u001b[0mhillclimb\u001b[0m\u001b[0;34m(\u001b[0m\u001b[0minit_function\u001b[0m\u001b[0;34m,\u001b[0m \u001b[0mswapped_cities\u001b[0m\u001b[0;34m,\u001b[0m \u001b[0mobjective_function\u001b[0m\u001b[0;34m,\u001b[0m \u001b[0;36m100000\u001b[0m \u001b[0;34m)\u001b[0m\u001b[0;34m\u001b[0m\u001b[0m\n\u001b[0m\u001b[1;32m      2\u001b[0m \u001b[0;32mprint\u001b[0m \u001b[0ma1\u001b[0m\u001b[0;34m,\u001b[0m\u001b[0mb1\u001b[0m\u001b[0;34m\u001b[0m\u001b[0m\n",
      "\u001b[0;32m<ipython-input-202-7aa354f47c10>\u001b[0m in \u001b[0;36mhillclimb\u001b[0;34m(init_function, move_operator, objective_function, max_evaluations)\u001b[0m\n\u001b[1;32m     22\u001b[0m                 \u001b[0;32mbreak\u001b[0m\u001b[0;34m\u001b[0m\u001b[0m\n\u001b[1;32m     23\u001b[0m             \u001b[0;31m# see if this move is better than the current\u001b[0m\u001b[0;34m\u001b[0m\u001b[0;34m\u001b[0m\u001b[0m\n\u001b[0;32m---> 24\u001b[0;31m             \u001b[0mnext_score\u001b[0m\u001b[0;34m=\u001b[0m\u001b[0mobjective_function\u001b[0m\u001b[0;34m(\u001b[0m\u001b[0mnext\u001b[0m\u001b[0;34m)\u001b[0m\u001b[0;34m\u001b[0m\u001b[0m\n\u001b[0m\u001b[1;32m     25\u001b[0m             \u001b[0mnum_evaluations\u001b[0m\u001b[0;34m+=\u001b[0m\u001b[0;36m1\u001b[0m\u001b[0;34m\u001b[0m\u001b[0m\n\u001b[1;32m     26\u001b[0m             \u001b[0;32mif\u001b[0m \u001b[0mnext_score\u001b[0m \u001b[0;34m>\u001b[0m \u001b[0mbest_score\u001b[0m\u001b[0;34m:\u001b[0m\u001b[0;34m\u001b[0m\u001b[0m\n",
      "\u001b[0;32m<ipython-input-201-6ed60b86e0fa>\u001b[0m in \u001b[0;36m<lambda>\u001b[0;34m(tour)\u001b[0m\n\u001b[1;32m      5\u001b[0m \u001b[0;34m\u001b[0m\u001b[0m\n\u001b[1;32m      6\u001b[0m \u001b[0minit_function\u001b[0m\u001b[0;34m=\u001b[0m\u001b[0;32mlambda\u001b[0m\u001b[0;34m:\u001b[0m \u001b[0minit_random_tour\u001b[0m\u001b[0;34m(\u001b[0m\u001b[0;36m50\u001b[0m\u001b[0;34m)\u001b[0m\u001b[0;34m\u001b[0m\u001b[0m\n\u001b[0;32m----> 7\u001b[0;31m \u001b[0mobjective_function\u001b[0m\u001b[0;34m=\u001b[0m\u001b[0;32mlambda\u001b[0m \u001b[0mtour\u001b[0m\u001b[0;34m:\u001b[0m \u001b[0;34m-\u001b[0m\u001b[0mtour_length\u001b[0m\u001b[0;34m(\u001b[0m\u001b[0mmatrix\u001b[0m\u001b[0;34m,\u001b[0m\u001b[0mtour\u001b[0m\u001b[0;34m)\u001b[0m \u001b[0;31m#note negation\u001b[0m\u001b[0;34m\u001b[0m\u001b[0m\n\u001b[0m",
      "\u001b[0;32m<ipython-input-196-b650751eed84>\u001b[0m in \u001b[0;36mtour_length\u001b[0;34m(matrix, tour)\u001b[0m\n\u001b[1;32m      7\u001b[0m         \u001b[0;32melse\u001b[0m\u001b[0;34m:\u001b[0m\u001b[0;34m\u001b[0m\u001b[0m\n\u001b[1;32m      8\u001b[0m             \u001b[0mj\u001b[0m \u001b[0;34m=\u001b[0m \u001b[0mi\u001b[0m \u001b[0;34m+\u001b[0m \u001b[0;36m1\u001b[0m\u001b[0;34m\u001b[0m\u001b[0m\n\u001b[0;32m----> 9\u001b[0;31m         \u001b[0mcity1\u001b[0m \u001b[0;34m=\u001b[0m \u001b[0mtour\u001b[0m\u001b[0;34m[\u001b[0m\u001b[0mi\u001b[0m\u001b[0;34m]\u001b[0m\u001b[0;34m\u001b[0m\u001b[0m\n\u001b[0m\u001b[1;32m     10\u001b[0m         \u001b[0mcity2\u001b[0m \u001b[0;34m=\u001b[0m \u001b[0mtour\u001b[0m\u001b[0;34m[\u001b[0m\u001b[0mj\u001b[0m\u001b[0;34m]\u001b[0m\u001b[0;34m\u001b[0m\u001b[0m\n\u001b[1;32m     11\u001b[0m         \u001b[0mtotal\u001b[0m \u001b[0;34m=\u001b[0m \u001b[0mtotal\u001b[0m \u001b[0;34m+\u001b[0m \u001b[0mmatrix\u001b[0m\u001b[0;34m[\u001b[0m\u001b[0mcity1\u001b[0m\u001b[0;34m,\u001b[0m \u001b[0mcity2\u001b[0m\u001b[0;34m]\u001b[0m\u001b[0;34m\u001b[0m\u001b[0m\n",
      "\u001b[0;31mTypeError\u001b[0m: 'int' object has no attribute '__getitem__'"
     ]
    }
   ],
   "source": [
    "a1,b1,c1 = hillclimb(init_function, swapped_cities, objective_function, 100000 )\n",
    "print a1,b1"
   ]
  },
  {
   "cell_type": "code",
   "execution_count": null,
   "metadata": {},
   "outputs": [],
   "source": [
    "a2,b2,c2 = hillclimb(init_function, reversed_sections, objective_function, 100000 )\n",
    "print a2,b2"
   ]
  },
  {
   "cell_type": "code",
   "execution_count": null,
   "metadata": {},
   "outputs": [],
   "source": [
    "A1 = []\n",
    "A2 = []\n",
    "for i in range(0,a1):\n",
    "    A1.append(i+1);\n",
    "\n",
    "for i in range(0,a2):\n",
    "    A2.append(i+1);\n",
    "\n",
    "plt.plot(A1, score_rec1, markersize=.1,linewidth=1, linestyle=\"-\")\n",
    "plt.plot(A2, score_rec2, markersize=.1,linewidth=1, linestyle=\"-\", color = 'r')\n",
    "#plt.rcParams[\"figure.figsize\"] = [20,9]\n",
    "plt.show()"
   ]
  },
  {
   "cell_type": "code",
   "execution_count": null,
   "metadata": {
    "collapsed": true
   },
   "outputs": [],
   "source": [
    "def hillclimb_and_restart(\n",
    "    init_function,\n",
    "    move_operator,\n",
    "    objective_function,\n",
    "    max_evaluations):\n",
    "    best=None\n",
    "    best_score=0\n",
    "    \n",
    "    num_evaluations=0\n",
    "    while num_evaluations < max_evaluations:\n",
    "        remaining_evaluations=max_evaluations-num_evaluations\n",
    "        \n",
    "        evaluated,score,found=hillclimb(\n",
    "            init_function,\n",
    "            move_operator,\n",
    "            objective_function,\n",
    "            remaining_evaluations)\n",
    "        \n",
    "        num_evaluations+=evaluated\n",
    "        if score > best_score or best is None:\n",
    "            best_score=score\n",
    "            best=found\n",
    "        \n",
    "    return (num_evaluations,best_score,best)"
   ]
  },
  {
   "cell_type": "code",
   "execution_count": null,
   "metadata": {},
   "outputs": [],
   "source": [
    "a3,b3,c3 = hillclimb_and_restart(init_function, swapped_cities, objective_function, 100000 )\n",
    "print a3,b3,c3"
   ]
  },
  {
   "cell_type": "code",
   "execution_count": 204,
   "metadata": {
    "collapsed": true
   },
   "outputs": [],
   "source": [
    "def hillclimb_stochastic(init_function,move_operator,objective_function,max_evaluations, breadth):\n",
    "    \n",
    "    best = init_function()\n",
    "    best_score = objective_function(best)\n",
    "    \n",
    "    score_rec = []\n",
    "    \n",
    "    num_evaluations = 0\n",
    "    eval_rec = []\n",
    "    while num_evaluations < max_evaluations:\n",
    "        # examine moves around our current position\n",
    "        temp_best = []\n",
    "        temp_best_scores = []\n",
    "        move_made = False\n",
    "        \n",
    "        for i in range(0,breadth):\n",
    "             \n",
    "            for next in move_operator(best):\n",
    "                score_rec.append(best_score)\n",
    "                if num_evaluations >= max_evaluations:\n",
    "                    break\n",
    "\n",
    "                # see if this move is better than the current\n",
    "              \n",
    "                next_score = objective_function(next)\n",
    "                num_evaluations += 1\n",
    "                \n",
    "                eval_rec.append(num_evaluations)\n",
    "                \n",
    "                if next_score > best_score:\n",
    "                    temp_best.append(next)\n",
    "                    temp_best_scores.append(best_score)\n",
    "                    best = next\n",
    "                    \n",
    "                    best_score = next_score\n",
    "\n",
    "                    move_made = True\n",
    "                    break \n",
    "            if not move_made:\n",
    "                break \n",
    "                \n",
    "        if len(temp_best_scores) == 0:\n",
    "            break\n",
    "        \n",
    "        best_score = max(temp_best_scores)\n",
    "        for i in range(0,len(temp_best_scores)):\n",
    "            if temp_best_scores[i] == best_score:\n",
    "                p = i\n",
    "        \n",
    "        best = temp_best[p]\n",
    "        \n",
    "        \n",
    "    \n",
    "\n",
    "    \n",
    "    return (best, best_score, eval_rec, score_rec)"
   ]
  },
  {
   "cell_type": "code",
   "execution_count": 205,
   "metadata": {},
   "outputs": [
    {
     "name": "stdout",
     "output_type": "stream",
     "text": [
      "[8, 6, 46, 35, 10, 49, 41, 0, 2, 5, 4, 22, 40, 32, 36, 37, 39, 34, 33, 26, 24, 48, 43, 12, 13, 1, 42, 27, 20, 30, 3, 11, 38, 7, 21, 9, 14, 31, 25, 23, 17, 45, 47, 15, 28, 44, 16, 18, 29, 19] -3.9931944461\n"
     ]
    }
   ],
   "source": [
    "a3,b3,c3,score_rec = hillclimb_stochastic(init_function, reversed_sections_hill, objective_function, 100000, 10 )\n",
    "print a3,b3"
   ]
  },
  {
   "cell_type": "code",
   "execution_count": 206,
   "metadata": {
    "collapsed": true
   },
   "outputs": [],
   "source": [
    "def GA_1(n_samples, max_eval):\n",
    "    \n",
    "   \n",
    "            \n",
    "    n_eval = 0\n",
    "    series = []\n",
    "    for i in range(0,n_samples):\n",
    "        series.append(init_priority(50))\n",
    "        \n",
    "    while n_eval < max_eval:\n",
    "\n",
    "        temp_best = []\n",
    "        temp_best_scores = []\n",
    "        move_made = False\n",
    "        \n",
    "        pairs = []\n",
    "        \n",
    "        while len(pairs) < n_samples:\n",
    "            temp = (random.sample(xrange(0, n_samples), 2))\n",
    "            add = True\n",
    "            \n",
    "            for j in range(0, len(pairs)):\n",
    "                if (temp[0] == pairs[j][0] and temp[1] == pairs[j][1]) or (temp[0] == pairs[j][1] and temp[1] == pairs[j][0]):\n",
    "                    add = False\n",
    "                else:\n",
    "                    add = True\n",
    "            if add == True:\n",
    "                pairs.append(temp)\n",
    "               \n",
    "        for j in range(0, len(pairs)):\n",
    "            cut = random.sample(xrange(1, 50), 2)\n",
    "            cut.sort()\n",
    "            new_series = []\n",
    "            s1 = pairs[j][0]\n",
    "            s2 = pairs[j][1]\n",
    "            n_eval = n_eval + 1\n",
    "            \n",
    "            \n",
    "            \n",
    "            for i in range(0,cut[0]):\n",
    "                new_series.append(series[s1][i])\n",
    "            \n",
    "            for i in range(cut[0],cut[1]):\n",
    "                new_series.append(series[s2][i])\n",
    "                \n",
    "            for i in range(cut[1],50):\n",
    "                new_series.append(series[s1][i])\n",
    "            \n",
    "            series.append(new_series)\n",
    "            \n",
    "        score = []\n",
    "        temp = series\n",
    "        for i in range(0, len(series)):\n",
    "            \n",
    "            \n",
    "            temp[i].sort(key=lambda x: x[1])\n",
    "            temp2 = []\n",
    "            for j in range(0, 50):\n",
    "                temp2.append(temp[i][j][0])\n",
    "            \n",
    "           \n",
    "            \n",
    "            score.append([i,objective_function(temp2)])\n",
    "        \n",
    "            \n",
    "        score.sort(key=lambda x: -x[1])\n",
    "       \n",
    "        \n",
    "        best = []\n",
    "        for i in range(0, len(score)/2):\n",
    "            best.append(score[i][0])\n",
    "        \n",
    "        temp_series = []\n",
    "        for i in range(0, len(score)/2):\n",
    "            temp_series.append(series[best[i]])\n",
    "        \n",
    "        \n",
    "        series = []\n",
    "        series = temp_series\n",
    "        for i in range(0, len(series)):\n",
    "            series[i].sort(key=lambda x: x[0])\n",
    "        \n",
    "    return score\n",
    "                    \n",
    "                    \n",
    "                    \n",
    "                    "
   ]
  },
  {
   "cell_type": "code",
   "execution_count": 207,
   "metadata": {
    "collapsed": true
   },
   "outputs": [],
   "source": [
    "def init_priority(tour_length):\n",
    "    init = []\n",
    "    for i in range(0,50):\n",
    "        init.append([i,i])\n",
    "    for i in range(0,50):\n",
    "        init[i][1] = random.uniform(0, 1)\n",
    "    \n",
    "    \n",
    "    return init"
   ]
  },
  {
   "cell_type": "code",
   "execution_count": 208,
   "metadata": {
    "collapsed": true,
    "scrolled": false
   },
   "outputs": [],
   "source": [
    "x = GA_1(100, 500)"
   ]
  },
  {
   "cell_type": "code",
   "execution_count": 209,
   "metadata": {
    "collapsed": true
   },
   "outputs": [],
   "source": [
    "cut = []\n",
    "for i in range(1,26):\n",
    "    for j in range(26,50):\n",
    "        cut.append([i,j])\n",
    "        #init.sort(key=lambda x: x[1])"
   ]
  },
  {
   "cell_type": "code",
   "execution_count": 210,
   "metadata": {},
   "outputs": [
    {
     "name": "stdout",
     "output_type": "stream",
     "text": [
      "[[1, 2], [2, 44], [5, 7]]\n",
      "[]\n"
     ]
    }
   ],
   "source": [
    "t = [[[1,2], [2,44], [5,7]],[[245,74], [34,2345], [1235,1234]]]\n",
    "x = list(t[0])\n",
    "t[0].sort(key=lambda x: x[1])\n",
    "print x\n",
    "del t[:]\n",
    "print t"
   ]
  },
  {
   "cell_type": "code",
   "execution_count": 211,
   "metadata": {
    "collapsed": true
   },
   "outputs": [],
   "source": [
    "t = [[1,2], [2,44], [5,7]]\n",
    "t.append([3,2])"
   ]
  },
  {
   "cell_type": "code",
   "execution_count": 212,
   "metadata": {},
   "outputs": [
    {
     "name": "stdout",
     "output_type": "stream",
     "text": [
      "[[1, 2], [2, 44], [5, 7], [3, 2]]\n"
     ]
    }
   ],
   "source": [
    "print t\n"
   ]
  },
  {
   "cell_type": "code",
   "execution_count": 213,
   "metadata": {
    "collapsed": true
   },
   "outputs": [],
   "source": [
    "def init_priority_sort(tour_length):\n",
    "    init = []\n",
    "    for i in range(0,50):\n",
    "        init.append([i,i])\n",
    "    for i in range(0,50):\n",
    "        init[i][1] = random.uniform(0, 1)\n",
    "    init.sort(key=lambda x: x[1])\n",
    "    \n",
    "    return init"
   ]
  },
  {
   "cell_type": "code",
   "execution_count": 214,
   "metadata": {
    "collapsed": true
   },
   "outputs": [],
   "source": [
    "def swapped_cities_GA(tour):\n",
    "    '''generator to create all possible variations\n",
    "      where two cities have been swapped'''\n",
    "    for i,j in all_pairs(len(tour)):\n",
    "        if i < j:\n",
    "            copy=tour[:]\n",
    "            copy[i][1],copy[j][1]=tour[j][1],tour[i][1]\n",
    "            yield copy"
   ]
  },
  {
   "cell_type": "code",
   "execution_count": 215,
   "metadata": {
    "collapsed": true
   },
   "outputs": [],
   "source": [
    "def GA_2(n_samples, max_eval, n_mut, move_operator):\n",
    "    \n",
    "   \n",
    "            \n",
    "    n_eval = 0\n",
    "    series = []\n",
    "    for i in range(0,n_samples):\n",
    "        series.append(init_priority_sort(50))\n",
    "        \n",
    "    while n_eval < max_eval:\n",
    "\n",
    "        \n",
    "        \n",
    "        pairs = []\n",
    "        \n",
    "        while len(pairs) < n_samples:\n",
    "            temp = (random.sample(xrange(0, n_samples), 2))\n",
    "            add = True\n",
    "            \n",
    "            for j in range(0, len(pairs)):\n",
    "                if (temp[0] == pairs[j][0] and temp[1] == pairs[j][1]) or (temp[0] == pairs[j][1] and temp[1] == pairs[j][0]):\n",
    "                    add = False\n",
    "                else:\n",
    "                    add = True\n",
    "            if add == True:\n",
    "                pairs.append(temp)\n",
    "               \n",
    "        for j in range(0, len(pairs)):\n",
    "            cut = random.sample(xrange(1, 50), 2)\n",
    "            cut.sort()\n",
    "            new_series1 = []\n",
    "            new_series2 = []\n",
    "            \n",
    "            s1 = pairs[j][0]\n",
    "            s2 = pairs[j][1]\n",
    "            \n",
    "            \n",
    "            series_sort_1 = []\n",
    "            series_sort_2 = []\n",
    "\n",
    "            \n",
    "            sorted_list_1 = []\n",
    "            sorted_list_2 = []\n",
    "            \n",
    "            sorted_list_1 = list(series[s1])\n",
    "            sorted_list_2 = list(series[s2])\n",
    "            \n",
    "            sorted_list_1.sort(key=lambda x: x[0])\n",
    "            sorted_list_2.sort(key=lambda x: x[0])\n",
    "            \n",
    "            \n",
    "            \n",
    "            \n",
    "            for i in range(0,50):\n",
    "                element = series[s1][i][0]\n",
    "                series_sort_2.append(sorted_list_2[element])\n",
    "            \n",
    "            \n",
    "            for i in range(0,cut[0]):\n",
    "                new_series1.append(series[s1][i])\n",
    "            \n",
    "            for i in range(cut[0],cut[1]):\n",
    "                new_series1.append(series_sort_2[i])\n",
    "                \n",
    "            for i in range(cut[1],50):\n",
    "                new_series1.append(series[s1][i])\n",
    "                \n",
    "                \n",
    "                \n",
    "                \n",
    "            for i in range(0,50):\n",
    "                element = series[s2][i][0]\n",
    "                series_sort_1.append(sorted_list_1[element])\n",
    "            \n",
    "            \n",
    "            for i in range(0,cut[0]):\n",
    "                new_series2.append(series[s2][i])\n",
    "            \n",
    "            for i in range(cut[0],cut[1]):\n",
    "                new_series2.append(series_sort_1[i])\n",
    "                \n",
    "            for i in range(cut[1],50):\n",
    "                new_series2.append(series[s2][i])\n",
    "            \n",
    "            series.append(new_series1)\n",
    "            series.append(new_series2)\n",
    "            \n",
    "\n",
    "        score = []\n",
    "        \n",
    "        \n",
    "        for i in range(0, len(series)):\n",
    "            \n",
    "            n_eval = n_eval + 1\n",
    "            series[i].sort(key=lambda x: x[1])\n",
    "            temp2 = []\n",
    "            for j in range(0, 50):\n",
    "                temp2.append(series[i][j][0])\n",
    "            \n",
    "            score.append([i,objective_function(temp2)])\n",
    "        \n",
    "            \n",
    "        score.sort(key=lambda x: -x[1])\n",
    "       \n",
    "        \n",
    "        best = []\n",
    "        for i in range(0, len(score)/3):\n",
    "            best.append(score[i][0])\n",
    "        \n",
    "        temp_series = []\n",
    "        for i in range(0, len(score)/3):\n",
    "            temp_series.append(series[best[i]])\n",
    "        \n",
    "        \n",
    "        del series[:]\n",
    "        series = temp_series\n",
    "        for i in range(0, len(series)):\n",
    "            series[i].sort(key=lambda x: x[0])\n",
    "        \n",
    "        best_score = max(score, key=lambda x:x[1])\n",
    "        mutate = (random.sample(xrange(0, len(series)), n_mut))   \n",
    "          \n",
    "        for i in range(0, n_mut):\n",
    "            \n",
    "            swap = move_operator(series[mutate[i]])\n",
    "            series[mutate[i]] = swap\n",
    "            \n",
    "              \n",
    "            \n",
    "    return (score)\n",
    "                    \n",
    "                    \n",
    "                    \n",
    "                    "
   ]
  },
  {
   "cell_type": "code",
   "execution_count": 216,
   "metadata": {
    "scrolled": true
   },
   "outputs": [
    {
     "ename": "TypeError",
     "evalue": "'generator' object has no attribute '__getitem__'",
     "output_type": "error",
     "traceback": [
      "\u001b[0;31m---------------------------------------------------------------------------\u001b[0m",
      "\u001b[0;31mTypeError\u001b[0m                                 Traceback (most recent call last)",
      "\u001b[0;32m<ipython-input-216-6d822a8ef848>\u001b[0m in \u001b[0;36m<module>\u001b[0;34m()\u001b[0m\n\u001b[0;32m----> 1\u001b[0;31m \u001b[0mx\u001b[0m \u001b[0;34m=\u001b[0m \u001b[0mGA_2\u001b[0m\u001b[0;34m(\u001b[0m\u001b[0;36m100\u001b[0m\u001b[0;34m,\u001b[0m \u001b[0;36m100000\u001b[0m\u001b[0;34m,\u001b[0m \u001b[0;36m30\u001b[0m\u001b[0;34m,\u001b[0m \u001b[0mswapped_cities_GA\u001b[0m\u001b[0;34m)\u001b[0m\u001b[0;34m\u001b[0m\u001b[0m\n\u001b[0m",
      "\u001b[0;32m<ipython-input-215-564fb2025d21>\u001b[0m in \u001b[0;36mGA_2\u001b[0;34m(n_samples, max_eval, n_mut, move_operator)\u001b[0m\n\u001b[1;32m     53\u001b[0m \u001b[0;34m\u001b[0m\u001b[0m\n\u001b[1;32m     54\u001b[0m             \u001b[0;32mfor\u001b[0m \u001b[0mi\u001b[0m \u001b[0;32min\u001b[0m \u001b[0mrange\u001b[0m\u001b[0;34m(\u001b[0m\u001b[0;36m0\u001b[0m\u001b[0;34m,\u001b[0m\u001b[0;36m50\u001b[0m\u001b[0;34m)\u001b[0m\u001b[0;34m:\u001b[0m\u001b[0;34m\u001b[0m\u001b[0m\n\u001b[0;32m---> 55\u001b[0;31m                 \u001b[0melement\u001b[0m \u001b[0;34m=\u001b[0m \u001b[0mseries\u001b[0m\u001b[0;34m[\u001b[0m\u001b[0ms1\u001b[0m\u001b[0;34m]\u001b[0m\u001b[0;34m[\u001b[0m\u001b[0mi\u001b[0m\u001b[0;34m]\u001b[0m\u001b[0;34m[\u001b[0m\u001b[0;36m0\u001b[0m\u001b[0;34m]\u001b[0m\u001b[0;34m\u001b[0m\u001b[0m\n\u001b[0m\u001b[1;32m     56\u001b[0m                 \u001b[0mseries_sort_2\u001b[0m\u001b[0;34m.\u001b[0m\u001b[0mappend\u001b[0m\u001b[0;34m(\u001b[0m\u001b[0msorted_list_2\u001b[0m\u001b[0;34m[\u001b[0m\u001b[0melement\u001b[0m\u001b[0;34m]\u001b[0m\u001b[0;34m)\u001b[0m\u001b[0;34m\u001b[0m\u001b[0m\n\u001b[1;32m     57\u001b[0m \u001b[0;34m\u001b[0m\u001b[0m\n",
      "\u001b[0;31mTypeError\u001b[0m: 'generator' object has no attribute '__getitem__'"
     ]
    }
   ],
   "source": [
    "x = GA_2(100, 100000, 30, swapped_cities_GA)"
   ]
  },
  {
   "cell_type": "code",
   "execution_count": null,
   "metadata": {},
   "outputs": [],
   "source": [
    "print y"
   ]
  },
  {
   "cell_type": "code",
   "execution_count": null,
   "metadata": {
    "collapsed": true
   },
   "outputs": [],
   "source": [
    "y = [[2,4],[34,63434344],[3453,43535]]\n",
    "\n",
    "y = [[2,8484848484],[34,344],[3453,43535]]\n",
    "x = max(y, key=lambda x:x[1])"
   ]
  },
  {
   "cell_type": "code",
   "execution_count": null,
   "metadata": {},
   "outputs": [],
   "source": [
    "print x[0]"
   ]
  },
  {
   "cell_type": "code",
   "execution_count": null,
   "metadata": {
    "collapsed": true
   },
   "outputs": [],
   "source": [
    "def GA_3(n_samples, max_eval, n_mut, move_operator):\n",
    "    n_eval = 0\n",
    "    series = []\n",
    "    for i in range(0, n_samples):\n",
    "        series.append(init_random_tour(50))\n",
    "     \n",
    "    score_rec = []\n",
    "    eval_rec = []\n",
    "    \n",
    "    while n_eval < max_eval:\n",
    "    \n",
    "                \n",
    "        n_eval += 1\n",
    "        score = []\n",
    "        for i in range(0, len(series)):\n",
    "            \n",
    "            score.append([i,objective_function(series[i])])\n",
    "        score.sort(key=lambda x: -x[1])\n",
    "        \n",
    "        score_rec.append(score[0])\n",
    "        eval_rec.append(n_eval)\n",
    "        \n",
    "            \n",
    "        parents = []\n",
    "        for j in range(0, 2):\n",
    "            parents.append(series[score[j][0]])\n",
    "        \n",
    "        offspring = []\n",
    "        \n",
    "        for j in range(0, n_samples - 2):\n",
    "            cut = random.sample(xrange(1, 50), 2)\n",
    "            cut.sort()\n",
    "            \n",
    "            embryo1 = []\n",
    "            embryo2 = []\n",
    "            fetus = []\n",
    "            \n",
    "            \n",
    "            for i in range(0,cut[0]):\n",
    "                embryo1.append(parents[0][i])\n",
    "                \n",
    "            for i in range(cut[1],50):\n",
    "                embryo1.append(parents[0][i])\n",
    "                \n",
    "            for i in range(0, 50):\n",
    "                if parents[1][i] not in embryo1:\n",
    "                    embryo2.append(parents[1][i])\n",
    "            \n",
    "            \n",
    "            for i in range(0,cut[0]):\n",
    "                fetus.append(embryo1[i])\n",
    "                \n",
    "                \n",
    "            for i in range(cut[0], cut[1]):\n",
    "                fetus.append(embryo2[i-cut[0]])\n",
    "                \n",
    "            for i in range(cut[1],50):\n",
    "                fetus.append(embryo1[i-(cut[1] - cut[0])])\n",
    "            \n",
    "            \n",
    "            offspring.append(fetus)\n",
    "        \n",
    "        del series[:]\n",
    "        for item in parents:\n",
    "            series.append(item)\n",
    "        for item in offspring:\n",
    "            series.append(item)\n",
    "            \n",
    "        \n",
    "        \n",
    "        mutate = (random.sample(xrange(0, len(series)), n_mut))   \n",
    "       \n",
    "          \n",
    "        for j in range(0, n_mut):\n",
    "            swap = []\n",
    "            \n",
    "        \n",
    "                #move = False\n",
    "                #swap = move_operator(series[mutate[j]])\n",
    "                #if (objective_function(swap) >= score[len(series) - 1][1]):\n",
    "                #    series[mutate[j]] = swap\n",
    "                #    move = True\n",
    "            #if move == False:\n",
    "            swap = move_operator(series[mutate[j]])\n",
    "            series[mutate[j]] = swap\n",
    "            \n",
    "            \n",
    "            \n",
    "            \n",
    "    return (score, eval_rec, score_rec)\n",
    "        "
   ]
  },
  {
   "cell_type": "code",
   "execution_count": null,
   "metadata": {},
   "outputs": [],
   "source": [
    "x, eval1, score1 = GA_3(10, 5000, 3, swapped_cities)\n",
    "print x"
   ]
  },
  {
   "cell_type": "code",
   "execution_count": null,
   "metadata": {},
   "outputs": [],
   "source": [
    "plt.plot(eval1, score1, markersize=.1,linewidth=1, linestyle=\"-\", color ='r')\n",
    "#plt.plot(A2, score_rec2, markersize=.1,linewidth=1, linestyle=\"-\", color = 'r')\n",
    "#plt.rcParams[\"figure.figsize\"] = [20,9]\n",
    "plt.show()"
   ]
  },
  {
   "cell_type": "code",
   "execution_count": null,
   "metadata": {
    "collapsed": true
   },
   "outputs": [],
   "source": [
    "def GA_4(n_samples, max_eval, n_mut, move_operator):\n",
    "    n_eval = 0\n",
    "    series = []\n",
    "    for i in range(0, n_samples):\n",
    "        series.append(init_random_tour(50))\n",
    "     \n",
    "    score_rec = []\n",
    "    eval_rec = []\n",
    "    \n",
    "    while n_eval < max_eval:\n",
    "       \n",
    "    \n",
    "    \n",
    "        pairs = []\n",
    "        \n",
    "        while len(pairs) < n_samples:\n",
    "            temp = (random.sample(xrange(0, n_samples), 2))\n",
    "            add = True\n",
    "            \n",
    "            for j in range(0, len(pairs)):\n",
    "                if (temp[0] == pairs[j][0] and temp[1] == pairs[j][1]) or (temp[0] == pairs[j][1] and temp[1] == pairs[j][0]):\n",
    "                    add = False\n",
    "                else:\n",
    "                    add = True\n",
    "            if add == True:\n",
    "                pairs.append(temp)\n",
    "       \n",
    "        n_eval += 1\n",
    "        eval_rec.append(n_eval)\n",
    "        for i in range(0, len(pairs)):\n",
    "            \n",
    "            parents = []\n",
    "            s1 = pairs[i][0]\n",
    "            s2 = pairs[i][1]\n",
    "            parents.append(series[s1])\n",
    "            parents.append(series[s2])\n",
    "        \n",
    "        \n",
    "            cut = random.sample(xrange(1, 50), 2)\n",
    "            cut.sort()\n",
    "            \n",
    "            embryo1 = []\n",
    "            embryo2 = []\n",
    "            fetus = []\n",
    "            \n",
    "            \n",
    "            for i in range(0,cut[0]):\n",
    "                embryo1.append(parents[0][i])\n",
    "                \n",
    "            for i in range(cut[1],50):\n",
    "                embryo1.append(parents[0][i])\n",
    "                \n",
    "            for i in range(0, 50):\n",
    "                if parents[1][i] not in embryo1:\n",
    "                    embryo2.append(parents[1][i])\n",
    "            \n",
    "            \n",
    "            for i in range(0,cut[0]):\n",
    "                fetus.append(embryo1[i])\n",
    "                \n",
    "                \n",
    "            for i in range(cut[0], cut[1]):\n",
    "                fetus.append(embryo2[i-cut[0]])\n",
    "                \n",
    "            for i in range(cut[1],50):\n",
    "                fetus.append(embryo1[i-(cut[1] - cut[0])])\n",
    "            \n",
    "            \n",
    "        \n",
    "            series.append(fetus)\n",
    "        score = []\n",
    "        \n",
    "        \n",
    "        for i in range(0, len(series)):\n",
    "            score.append([i, objective_function(series[i])])\n",
    "        \n",
    "        score.sort(key=lambda x: -x[1])\n",
    "        \n",
    "        score_rec.append(score[0][1])\n",
    "        \n",
    "        new_series = []\n",
    "        \n",
    "        for i in range(0,n_samples):\n",
    "            new_series.append(series[score[i][0]])\n",
    "        del series[:]\n",
    "        series = new_series\n",
    "        \n",
    "        mutate = (random.sample(xrange(0, len(series)), n_mut))   \n",
    "       \n",
    "          \n",
    "        for j in range(0, n_mut):\n",
    "            swap = []\n",
    "            \n",
    "        \n",
    "                #move = False\n",
    "                #swap = move_operator(series[mutate[j]])\n",
    "                #if (objective_function(swap) >= score[len(series) - 1][1]):\n",
    "                #    series[mutate[j]] = swap\n",
    "                #    move = True\n",
    "            #if move == False:\n",
    "            swap = move_operator(series[mutate[j]])\n",
    "            series[mutate[j]] = swap\n",
    "            \n",
    "            \n",
    "            \n",
    "            \n",
    "    return (series[0], score[0], eval_rec, score_rec )\n",
    "        "
   ]
  },
  {
   "cell_type": "code",
   "execution_count": null,
   "metadata": {
    "scrolled": true
   },
   "outputs": [],
   "source": [
    "best_GA, score_GA, eval_rec_GA, score_rec_GA = GA_4(10, 50, 3, reversed_sections)\n",
    "print best_GA, score_GA, score_rec_GA"
   ]
  },
  {
   "cell_type": "code",
   "execution_count": 217,
   "metadata": {},
   "outputs": [
    {
     "data": {
      "image/png": "[encoded data removed]",
      "text/plain": [
       "<matplotlib.figure.Figure at 0x118b43850>"
      ]
     },
     "metadata": {},
     "output_type": "display_data"
    }
   ],
   "source": [
    "plt.plot(eval_rec_GA, score_rec_GA, markersize=.1,linewidth=1, linestyle=\"-\", color ='r')\n",
    "#plt.plot(A2, score_rec2, markersize=.1,linewidth=1, linestyle=\"-\", color = 'r')\n",
    "#plt.rcParams[\"figure.figsize\"] = [20,9]\n",
    "plt.show()"
   ]
  },
  {
   "cell_type": "code",
   "execution_count": 218,
   "metadata": {
    "collapsed": true
   },
   "outputs": [],
   "source": [
    "def draw(tour, X1, Y1):\n",
    "    ax = plt.gca()    \n",
    "    for i in range(0,50):\n",
    "        item = tour[i]\n",
    "        if i == 49:\n",
    "            item_next = tour[0]\n",
    "        else:\n",
    "            item_next = tour[i+1]\n",
    "        x1 = X1[item]\n",
    "        y1 = Y1[item]\n",
    "        x2 = X1[item_next]\n",
    "        y2 = Y1[item_next]\n",
    "        l = mlines.Line2D([x1,x2], [y1,y2])\n",
    "\n",
    "        ax.add_line(l)"
   ]
  },
  {
   "cell_type": "code",
   "execution_count": 219,
   "metadata": {},
   "outputs": [
    {
     "data": {
      "image/png": "[encoded data removed]",
      "text/plain": [
       "<matplotlib.figure.Figure at 0x11dd39090>"
      ]
     },
     "metadata": {},
     "output_type": "display_data"
    }
   ],
   "source": [
    "draw(best_GA, X1, Y1)"
   ]
  },
  {
   "cell_type": "code",
   "execution_count": 220,
   "metadata": {},
   "outputs": [
    {
     "data": {
      "text/plain": [
       "<Container object of 3 artists>"
      ]
     },
     "execution_count": 220,
     "metadata": {},
     "output_type": "execute_result"
    },
    {
     "data": {
      "image/png": "[encoded data removed]",
      "text/plain": [
       "<matplotlib.figure.Figure at 0x11160d750>"
      ]
     },
     "metadata": {},
     "output_type": "display_data"
    }
   ],
   "source": [
    "x = [1,2,3,4,5,6,7,8]\n",
    "y = [23,37,57,42,2,5,3,24]\n",
    "err = [1,2,3,4]\n",
    "fig, ax = plt.subplots(figsize=(7, 4))\n",
    "\n",
    "# standard error bars\n",
    "\n",
    "ax.errorbar(x[::2], y[::2], yerr=err, linestyle='None')"
   ]
  },
  {
   "cell_type": "code",
   "execution_count": 221,
   "metadata": {
    "collapsed": true
   },
   "outputs": [],
   "source": [
    "def random_search(max_eval):\n",
    "    best = init_random_tour(50)\n",
    "    score = -1000\n",
    "    n_eval = 0\n",
    "    \n",
    "    eval_rec = []\n",
    "    score_rec = []\n",
    "    \n",
    "    while max_eval > n_eval:\n",
    "        new = []\n",
    "        new = init_random_tour(50)\n",
    "        if objective_function(new) > score:\n",
    "            best = new\n",
    "            score = objective_function(best)\n",
    "        n_eval += 1\n",
    "        eval_rec.append(n_eval)\n",
    "        score_rec.append(score)\n",
    "        \n",
    "    return (best, score, eval_rec, score_rec)\n",
    "            "
   ]
  },
  {
   "cell_type": "code",
   "execution_count": 222,
   "metadata": {
    "collapsed": true
   },
   "outputs": [],
   "source": [
    "best_random, score_random, eval_rec_random, score_rec_random = random_search(1000)"
   ]
  },
  {
   "cell_type": "code",
   "execution_count": 223,
   "metadata": {},
   "outputs": [
    {
     "name": "stdout",
     "output_type": "stream",
     "text": [
      "[1, 9, 34, 36, 35, 37, 12, 24, 0, 42, 17, 6, 10, 26, 41, 39, 46, 8, 38, 43, 48, 27, 44, 16, 13, 14, 18, 19, 23, 15, 28, 25, 32, 49, 4, 33, 29, 11, 40, 2, 22, 45, 47, 7, 20, 31, 5, 30, 3, 21] -18.8150322387\n"
     ]
    }
   ],
   "source": [
    "print best_random, score_random"
   ]
  },
  {
   "cell_type": "code",
   "execution_count": 224,
   "metadata": {},
   "outputs": [
    {
     "name": "stdout",
     "output_type": "stream",
     "text": [
      "GA --- 3042.50019288 seconds ---\n",
      "Random --- 15.8659629822 seconds ---\n",
      "Hill --- 8.52325201035 seconds ---\n",
      "GA --- 543.114339828 seconds ---\n",
      "Random --- 17.0657289028 seconds ---\n",
      "Hill --- 0.875916004181 seconds ---\n",
      "GA --- 653.047065973 seconds ---\n",
      "Random --- 17.0582439899 seconds ---\n",
      "Hill --- 9.35108995438 seconds ---\n",
      "GA --- 463.970114946 seconds ---\n",
      "Random --- 17.0457069874 seconds ---\n",
      "Hill --- 9.36633896828 seconds ---\n",
      "GA --- 463.525038004 seconds ---\n",
      "Random --- 17.0562770367 seconds ---\n",
      "Hill --- 9.39744710922 seconds ---\n"
     ]
    }
   ],
   "source": [
    "best_GA_main = []\n",
    "score_GA_main = []\n",
    "score_rec_GA_main = []\n",
    "\n",
    "best_random_main = []\n",
    "score_random_main = []\n",
    "score_rec_random_main = []\n",
    "\n",
    "best_hill_main = []\n",
    "score_hill_main = []\n",
    "score_rec_hill_main = []\n",
    "\n",
    "\n",
    "for i in range(0,5):\n",
    "    evals = 500000\n",
    "    \n",
    "    #GA\n",
    "    \n",
    "    start_time = time.time()\n",
    "    a,b,c,d = GA_4(10, evals, 3, swapped_cities)\n",
    "    end_time = time.time()\n",
    "    print(\"GA --- %s seconds ---\" % (end_time - start_time))\n",
    "    best_GA = a\n",
    "    score_GA = b\n",
    "    eval_rec_GA = c\n",
    "    score_rec_GA = d\n",
    "    \n",
    "    best_GA_main.append(best_GA)\n",
    "    score_GA_main.append(score_GA)\n",
    "    score_rec_GA_main.append(score_rec_GA)\n",
    "    \n",
    "    #RANDOM\n",
    "    start_time = time.time()\n",
    "    x,y,z,w = random_search(evals)\n",
    "    end_time = time.time()\n",
    "    print(\"Random --- %s seconds ---\" % (end_time - start_time))\n",
    "    \n",
    "    best_random = x\n",
    "    score_random = y\n",
    "    eval_rec_random = z\n",
    "    score_rec_random = w\n",
    "    \n",
    "    best_random_main.append(best_random)\n",
    "    score_random_main.append(score_random)\n",
    "    score_rec_random_main.append(score_rec_random)\n",
    "    \n",
    "    \n",
    "    #HILL\n",
    "    start_time = time.time()\n",
    "    p,q,r,s = hillclimb_stochastic(init_function, reversed_sections_hill, objective_function, evals, 10 )\n",
    "    end_time = time.time()\n",
    "    print(\"Hill --- %s seconds ---\" % (end_time - start_time))\n",
    "    \n",
    "    best_hill = p\n",
    "    score_hill = q\n",
    "    eval_rec_hill = r\n",
    "    score_rec_hill = s\n",
    "    high = score_rec_hill[len(eval_rec_hill)-1]\n",
    "    \n",
    "    for i in range(len(eval_rec_hill), evals):\n",
    "        eval_rec_hill.append(i)\n",
    "        score_rec_hill.append(high)\n",
    "    \n",
    "    best_hill_main.append(best_hill)\n",
    "    score_hill_main.append(score_hill)\n",
    "    score_rec_hill_main.append(score_rec_hill)\n",
    "    \n",
    "\n",
    "    \n",
    "    "
   ]
  },
  {
   "cell_type": "code",
   "execution_count": 225,
   "metadata": {
    "collapsed": true
   },
   "outputs": [],
   "source": [
    "GA_mean_scores = []\n",
    "for i in range(0, evals):\n",
    "    \n",
    "    total_score = 0\n",
    "    for j in range(0,5):\n",
    "        total_score += score_rec_GA_main[j][i]\n",
    "    GA_mean_scores.append(total_score/5)\n",
    "GA_err = []\n",
    "for i in range(0,evals,evals/50):\n",
    "    error_GA = []\n",
    "    for j in range(0,5):\n",
    "        error_GA.append(score_rec_GA_main[j][i])\n",
    "    GA_err.append(np.std(error_GA)/np.sqrt(5))\n",
    "\n",
    "\n",
    "    \n",
    "random_mean_scores = []\n",
    "for i in range(0, evals):\n",
    "    \n",
    "    total_score = 0\n",
    "    for j in range(0,5):\n",
    "        total_score += score_rec_random_main[j][i]\n",
    "    random_mean_scores.append(total_score/5)\n",
    "random_err = []\n",
    "for i in range(0,evals,evals/50):\n",
    "    error_random = []\n",
    "    for j in range(0,5):\n",
    "        error_random.append(score_rec_random_main[j][i])\n",
    "    random_err.append(np.std(error_random)/np.sqrt(5))\n",
    "\n",
    "    "
   ]
  },
  {
   "cell_type": "code",
   "execution_count": 226,
   "metadata": {
    "collapsed": true
   },
   "outputs": [],
   "source": [
    "hill_mean_scores = []\n",
    "for i in range(0, evals):\n",
    "    \n",
    "    total_score = 0\n",
    "    for j in range(0,5):\n",
    "        total_score += score_rec_hill_main[j][i]\n",
    "    hill_mean_scores.append(total_score/5)\n",
    "hill_err = []\n",
    "for i in range(0,evals,evals/50):\n",
    "    error_hill = []\n",
    "    for j in range(0,5):\n",
    "        error_hill.append(score_rec_hill_main[j][i])\n",
    "    hill_err.append(np.std(error_hill)/np.sqrt(5))"
   ]
  },
  {
   "cell_type": "code",
   "execution_count": 227,
   "metadata": {},
   "outputs": [
    {
     "data": {
      "image/png": "[encoded data removed]",
      "text/plain": [
       "<matplotlib.figure.Figure at 0x123acdb90>"
      ]
     },
     "metadata": {},
     "output_type": "display_data"
    }
   ],
   "source": [
    "\n",
    "fig, ax = plt.subplots(figsize=(20, 10))\n",
    "# standard error bars\n",
    "ax.plot(eval_rec_GA, GA_mean_scores, markersize=.1, linewidth=1, linestyle=\"-\", color ='r')\n",
    "ax.errorbar(eval_rec_GA[::evals/50], GA_mean_scores[::evals/50], yerr=GA_err, linestyle='None', color = 'b')\n",
    "\n",
    "ax.plot(eval_rec_random, random_mean_scores, markersize=.1, linewidth=1, linestyle=\"-\", color ='b')\n",
    "ax.errorbar(eval_rec_random[::evals/50], random_mean_scores[::evals/50], yerr=random_err, linestyle='None', color = 'r')\n",
    "\n",
    "ax.plot(eval_rec_hill, hill_mean_scores, markersize=.1, linewidth=1, linestyle=\"-\", color ='g')\n",
    "ax.errorbar(eval_rec_hill[::evals/50], hill_mean_scores[::evals/50], yerr=random_err, linestyle='None', color = 'k')\n",
    "\n",
    "\n",
    "#ax.set_ylim([30,50])\n",
    "    \n",
    "plt.show()"
   ]
  },
  {
   "cell_type": "code",
   "execution_count": 228,
   "metadata": {},
   "outputs": [
    {
     "name": "stdout",
     "output_type": "stream",
     "text": [
      "[[1, -5.7897935158203886], [0, -5.5613210780312432], [0, -5.7073880297771069], [0, -4.0990992417860301], [0, -5.5705578932607294]]\n"
     ]
    }
   ],
   "source": [
    "print score_GA_main"
   ]
  },
  {
   "cell_type": "code",
   "execution_count": 234,
   "metadata": {},
   "outputs": [
    {
     "data": {
      "image/png": "[encoded data removed]",
      "text/plain": [
       "<matplotlib.figure.Figure at 0x11b1b0950>"
      ]
     },
     "metadata": {},
     "output_type": "display_data"
    }
   ],
   "source": [
    "draw(best_hill_main[1], X1, Y1)"
   ]
  },
  {
   "cell_type": "code",
   "execution_count": 230,
   "metadata": {},
   "outputs": [
    {
     "name": "stdout",
     "output_type": "stream",
     "text": [
      "500000\n"
     ]
    }
   ],
   "source": [
    "print len(eval_rec_hill)"
   ]
  },
  {
   "cell_type": "code",
   "execution_count": 235,
   "metadata": {},
   "outputs": [
    {
     "data": {
      "image/png": "[encoded data removed]",
      "text/plain": [
       "<matplotlib.figure.Figure at 0x1244fde10>"
      ]
     },
     "metadata": {},
     "output_type": "display_data"
    }
   ],
   "source": [
    "draw(best_GA_main[1], X1, Y1)"
   ]
  },
  {
   "cell_type": "code",
   "execution_count": 232,
   "metadata": {},
   "outputs": [
    {
     "name": "stdout",
     "output_type": "stream",
     "text": [
      "[-3.9301888083004575, -3.9066959261047876, -4.0246178342202903, -3.9684380733808609, -4.1762569083860228]\n"
     ]
    }
   ],
   "source": [
    "print score_hill_main\n"
   ]
  },
  {
   "cell_type": "code",
   "execution_count": 233,
   "metadata": {},
   "outputs": [
    {
     "name": "stdout",
     "output_type": "stream",
     "text": [
      "Hill --- 9.45346784592 seconds ---\n"
     ]
    }
   ],
   "source": [
    "start_time = time.time()\n",
    "p,q,r,s = hillclimb_stochastic(init_function, reversed_sections_hill, objective_function, evals, 10 )\n",
    "end_time = time.time()\n",
    "print(\"Hill --- %s seconds ---\" % (end_time - start_time))\n",
    "    \n",
    "best_hill = p\n",
    "score_hill = q\n",
    "eval_rec_hill = r\n",
    "score_rec_hill = s\n",
    "    \n",
    "best_hill_main.append(best_hill)\n",
    "score_hill_main.append(score_hill)\n",
    "score_rec_hill_main.append(score_rec_hill)"
   ]
  },
  {
   "cell_type": "code",
   "execution_count": 408,
   "metadata": {},
   "outputs": [
    {
     "name": "stdout",
     "output_type": "stream",
     "text": [
      "[-5.8985655670040691, -6.5398488496340041, -5.9664829464706077, -6.0097595482175263, 36.960675260362933, 36.960182266889468, 36.962449858766028]\n"
     ]
    },
    {
     "data": {
      "image/png": "[encoded data removed]",
      "text/plain": [
       "<matplotlib.figure.Figure at 0x1166d5250>"
      ]
     },
     "metadata": {},
     "output_type": "display_data"
    }
   ],
   "source": [
    "print score_hill_main\n",
    "draw(a3, X1, Y1)"
   ]
  },
  {
   "cell_type": "code",
   "execution_count": null,
   "metadata": {
    "collapsed": true
   },
   "outputs": [],
   "source": []
  }
 ],
 "metadata": {
  "kernelspec": {
   "display_name": "Python 2",
   "language": "python",
   "name": "python2"
  },
  "language_info": {
   "codemirror_mode": {
    "name": "ipython",
    "version": 2
   },
   "file_extension": ".py",
   "mimetype": "text/x-python",
   "name": "python",
   "nbconvert_exporter": "python",
   "pygments_lexer": "ipython2",
   "version": "2.7.13"
  }
 },
 "nbformat": 4,
 "nbformat_minor": 2
}
